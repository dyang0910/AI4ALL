# Data Pre-processing
df = pd.read_csv('stroke_prediction_dataset.csv')
# Drop the Null values
df = df.dropna()
# Drop the 'Patient ID', 'Patient Name' columns
df = df.drop(columns=['Patient ID', 'Patient Name'], axis=1)
# Assign dummy variables to the 'Gender' column
dummies = pd.get_dummies(df['Gender'], dtype=int)
clean_df = pd.concat([dummies, df], axis=1)
clean_df = clean_df.drop(columns='Gender')
# Modify the 'Cholesterol Levels', 'Blood Pressure Levels' columns
clean_df['Lower Blood Pressure'] = clean_df['Blood Pressure Levels'].str.split('/', expand=True)[0]

clean_df['Higher Blood Pressure'] = clean_df['Blood Pressure Levels'].str.split('/', expand=True)[1]

clean_df = clean_df.drop(columns='Blood Pressure Levels')

clean_df['HDL'] = clean_df['Cholesterol Levels'].str.split(",", expand=True)[0]
clean_df['HDL'] = clean_df['HDL'].str.split(':', expand=True)[1]

clean_df['LDL'] = clean_df['Cholesterol Levels'].str.split(",", expand=True)[1]
clean_df['LDL'] = clean_df['LDL'].str.split(':', expand=True)[1]

clean_df = clean_df.drop(columns='Cholesterol Levels', axis=1)
clean_df
